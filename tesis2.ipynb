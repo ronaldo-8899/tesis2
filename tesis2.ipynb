{
 "cells": [
  {
   "cell_type": "markdown",
   "metadata": {
    "id": "4WzqttbYcd_S"
   },
   "source": [
    "Este es un cuaderno complementario del libro [Aprendizaje profundo con Python, segunda edición](https://www.manning.com/books/deep-learning-with-python-second-edition?a_aid=keras&a_bid=76564dff)."
   ]
  },
  {
   "cell_type": "markdown",
   "metadata": {
    "id": "qs4h7Aq0cd_Z"
   },
   "source": [
    "## Traduccion automatica usando transformers"
   ]
  },
  {
   "cell_type": "code",
   "execution_count": null,
   "metadata": {
    "colab": {
     "base_uri": "https://localhost:8080/"
    },
    "id": "PrTCahq6jrHZ",
    "outputId": "25a12e5e-fc17-479f-ebdf-11051121c3bd"
   },
   "outputs": [
    {
     "name": "stdout",
     "output_type": "stream",
     "text": [
      "--2022-12-26 13:36:21--  http://storage.googleapis.com/download.tensorflow.org/data/spa-eng.zip\n",
      "Resolving storage.googleapis.com (storage.googleapis.com)... 142.250.145.128, 108.177.126.128, 108.177.127.128, ...\n",
      "Connecting to storage.googleapis.com (storage.googleapis.com)|142.250.145.128|:80... connected.\n",
      "HTTP request sent, awaiting response... 200 OK\n",
      "Length: 2638744 (2.5M) [application/zip]\n",
      "Saving to: ‘spa-eng.zip’\n",
      "\n",
      "\r",
      "spa-eng.zip           0%[                    ]       0  --.-KB/s               \r",
      "spa-eng.zip         100%[===================>]   2.52M  --.-KB/s    in 0.01s   \n",
      "\n",
      "2022-12-26 13:36:21 (178 MB/s) - ‘spa-eng.zip’ saved [2638744/2638744]\n",
      "\n"
     ]
    }
   ],
   "source": [
    "!wget http://storage.googleapis.com/download.tensorflow.org/data/spa-eng.zip\n",
    "!unzip -q spa-eng.zip"
   ]
  },
  {
   "cell_type": "code",
   "execution_count": null,
   "metadata": {
    "id": "6q51BckS2ITE"
   },
   "outputs": [],
   "source": [
    "model.save('path_to_my_model.h5')\n",
    "new_model = keras.models.load_model('path_to_my_model.h5')"
   ]
  },
  {
   "cell_type": "code",
   "execution_count": null,
   "metadata": {
    "id": "Bt6GOdGMtir9"
   },
   "outputs": [],
   "source": [
    "text_file = \"spa-eng/spa.txt\" \n",
    "with open(text_file) as f:\n",
    "    lines = f.read().split(\"\\n\")[:-1]\n",
    "text_pairs = [] \n",
    "for line in lines:\n",
    "    english, spanish = line.split(\"\\t\")\n",
    "    spanish = \"[start] \" + spanish + \" [end]\"\n",
    "    text_pairs.append((english, spanish))"
   ]
  },
  {
   "cell_type": "code",
   "execution_count": null,
   "metadata": {
    "id": "cRYOYm5DxcV0"
   },
   "outputs": [],
   "source": [
    "import pandas as pd\n",
    "df = pd.read_parquet('test-00000-of-00001.parquet')\n",
    "df.to_csv('test.txt',columns=[\"es\"],index=False,sep='\\t')   # Alternatively, you can use tab separators\n",
    "df = pd.read_parquet('validation-00000-of-00001.parquet')\n",
    "df.to_csv('validation.txt', columns=[\"es\"],index=False,sep='\\t')   # Alternatively, you can use tab separators"
   ]
  },
  {
   "cell_type": "code",
   "execution_count": null,
   "metadata": {
    "id": "SsENvBA2wEsr"
   },
   "outputs": [],
   "source": [
    "df = pd.read_parquet('train-00000-of-00001.parquet')\n",
    "df[:10000].to_csv('train1.txt', columns=[\"es\"], index=False, sep='\\t')   # Alternatively, you can use tab separators\n",
    "df[10000:20000].to_csv('train2.txt', columns=[\"es\"], index=False, sep='\\t')   # Alternatively, you can use tab separators\n",
    "df[20000:30000].to_csv('train3.txt', columns=[\"es\"], index=False, sep='\\t')   # Alternatively, you can use tab separators\n",
    "df[30000:40000].to_csv('train4.txt', columns=[\"es\"], index=False, sep='\\t')   # Alternatively, you can use tab separators\n",
    "df[40000:50000].to_csv('train5.txt', columns=[\"es\"], index=False, sep='\\t')   # Alternatively, you can use tab separators\n",
    "df[50000:60000].to_csv('train6.txt', columns=[\"es\"], index=False, sep='\\t')   # Alternatively, you can use tab separators\n",
    "df[60000:70000].to_csv('train7.txt', columns=[\"es\"], index=False, sep='\\t')   # Alternatively, you can use tab separators\n",
    "df[70000:80000].to_csv('train8.txt', columns=[\"es\"], index=False, sep='\\t')   # Alternatively, you can use tab separators\n",
    "df[80000:90000].to_csv('train9.txt', columns=[\"es\"], index=False, sep='\\t')   # Alternatively, you can use tab separators\n",
    "df[90000:100000].to_csv('train10.txt', columns=[\"es\"], index=False, sep='\\t')   # Alternatively, you can use tab separators\n",
    "df[100000:].to_csv('train11.txt', columns=[\"es\"], index=False, sep='\\t')   # Alternatively, you can use tab separators"
   ]
  },
  {
   "cell_type": "code",
   "execution_count": null,
   "metadata": {
    "id": "vwKtNcCJrIEt"
   },
   "outputs": [],
   "source": [
    "df = pd.read_parquet('train-00000-of-00001.parquet')\n",
    "df"
   ]
  },
  {
   "cell_type": "code",
   "execution_count": null,
   "metadata": {
    "id": "Lueq198LP5V6"
   },
   "outputs": [],
   "source": [
    "text_file = \"train.txt\" \n",
    "with open(text_file) as f:\n",
    "    lines = f.read().split(\"\\n\")[:-1]\n",
    "train_pairs = [] \n",
    "for line in lines:\n",
    "    english, spanish = line.split(\"\\t\")\n",
    "    spanish = \"[start] \" + spanish + \" [end]\"\n",
    "    train_pairs.append((english, spanish))"
   ]
  },
  {
   "cell_type": "code",
   "execution_count": null,
   "metadata": {
    "id": "4vDBrVzbjjzr"
   },
   "outputs": [],
   "source": [
    "text_file = \"test.txt\" \n",
    "with open(text_file) as f:\n",
    "    lines = f.read().split(\"\\n\")[:-1]\n",
    "test_pairs = [] \n",
    "for line in lines:\n",
    "    english, spanish = line.split(\"\\t\")\n",
    "    spanish = \"[start] \" + spanish + \" [end]\"\n",
    "    test_pairs.append((english, spanish))"
   ]
  },
  {
   "cell_type": "code",
   "execution_count": null,
   "metadata": {
    "id": "Z--XG7p7jjpy"
   },
   "outputs": [],
   "source": [
    "text_file = \"validation.txt\" \n",
    "with open(text_file) as f:\n",
    "    lines = f.read().split(\"\\n\")[:-1]\n",
    "val_pairs = [] \n",
    "for line in lines:\n",
    "    english, spanish = line.split(\"\\t\")\n",
    "    spanish = \"[start] \" + spanish + \" [end]\"\n",
    "    val_pairs.append((english, spanish))"
   ]
  },
  {
   "cell_type": "markdown",
   "metadata": {
    "id": "zimLnEeVcd_b"
   },
   "source": [
    "### Recoleccion de datos\n",
    "\n"
   ]
  },
  {
   "cell_type": "code",
   "execution_count": 22,
   "metadata": {
    "id": "-Um9u-Dnr6zH"
   },
   "outputs": [],
   "source": [
    "train_pairs = []"
   ]
  },
  {
   "cell_type": "code",
   "execution_count": 23,
   "metadata": {
    "id": "9jxZo1fAvIFX"
   },
   "outputs": [],
   "source": [
    "text_file1 = \"Data/train1Es.txt\" \n",
    "text_file2 = \"Data/train1Qu.txt\"\n",
    "\n",
    "with open(text_file1,encoding=\"utf-8\") as f:\n",
    "    lines1 = f.read().split(\"\\n\")[:-1]\n",
    "with open(text_file2,encoding=\"utf-8\") as f:\n",
    "    lines2 = f.read().split(\"\\n\")[:-1]\n",
    "\n",
    "for i in range(0,len(lines2)):\n",
    "    español  = lines1[i]\n",
    "    quechua  = lines2[i]\n",
    "    if español != quechua:\n",
    "       quechua = \"[start] \" + quechua + \" [end]\"\n",
    "       train_pairs.append((español, quechua))"
   ]
  },
  {
   "cell_type": "code",
   "execution_count": 24,
   "metadata": {
    "id": "4CSb4W2jsBsZ"
   },
   "outputs": [],
   "source": [
    "text_file1 = \"Data/train2Es.txt\" \n",
    "text_file2 = \"Data/train2Qu.txt\"\n",
    "\n",
    "with open(text_file1,encoding=\"utf-8\") as f:\n",
    "    lines1 = f.read().split(\"\\n\")[:-1]\n",
    "with open(text_file2,encoding=\"utf-8\") as f:\n",
    "    lines2 = f.read().split(\"\\n\")[:-1]\n",
    "\n",
    "for i in range(0,len(lines2)):\n",
    "    español  = lines1[i]\n",
    "    quechua  = lines2[i]\n",
    "    if español != quechua:\n",
    "       quechua = \"[start] \" + quechua + \" [end]\"\n",
    "       train_pairs.append((español, quechua))"
   ]
  },
  {
   "cell_type": "code",
   "execution_count": 25,
   "metadata": {
    "id": "oRiop2BBsCmK"
   },
   "outputs": [],
   "source": [
    "text_file1 = \"Data/train3Es.txt\" \n",
    "text_file2 = \"Data/train3Qu.txt\"\n",
    "\n",
    "with open(text_file1,encoding=\"utf-8\") as f:\n",
    "    lines1 = f.read().split(\"\\n\")[:-1]\n",
    "with open(text_file2,encoding=\"utf-8\") as f:\n",
    "    lines2 = f.read().split(\"\\n\")[:-1]\n",
    "\n",
    "for i in range(0,len(lines2)):\n",
    "    español  = lines1[i]\n",
    "    quechua  = lines2[i]\n",
    "    if español != quechua:\n",
    "       quechua = \"[start] \" + quechua + \" [end]\"\n",
    "       train_pairs.append((español, quechua))"
   ]
  },
  {
   "cell_type": "code",
   "execution_count": 26,
   "metadata": {
    "id": "H4SbdKCfsDVW"
   },
   "outputs": [],
   "source": [
    "text_file1 = \"Data/train4Es.txt\" \n",
    "text_file2 = \"Data/train4Qu.txt\"\n",
    "\n",
    "with open(text_file1,encoding=\"utf-8\") as f:\n",
    "    lines1 = f.read().split(\"\\n\")[:-1]\n",
    "with open(text_file2,encoding=\"utf-8\") as f:\n",
    "    lines2 = f.read().split(\"\\n\")[:-1]\n",
    "\n",
    "for i in range(0,len(lines2)):\n",
    "    español  = lines1[i]\n",
    "    quechua  = lines2[i]\n",
    "    if español != quechua:\n",
    "       quechua = \"[start] \" + quechua + \" [end]\"\n",
    "       train_pairs.append((español, quechua))"
   ]
  },
  {
   "cell_type": "code",
   "execution_count": 27,
   "metadata": {
    "id": "LtNG4osssEHH"
   },
   "outputs": [],
   "source": [
    "text_file1 = \"Data/train5Es.txt\" \n",
    "text_file2 = \"Data/train5Qu.txt\"\n",
    "\n",
    "with open(text_file1,encoding=\"utf-8\") as f:\n",
    "    lines1 = f.read().split(\"\\n\")[:-1]\n",
    "with open(text_file2,encoding=\"utf-8\") as f:\n",
    "    lines2 = f.read().split(\"\\n\")[:-1]\n",
    "\n",
    "for i in range(0,len(lines2)):\n",
    "    español  = lines1[i]\n",
    "    quechua  = lines2[i]\n",
    "    if español != quechua:\n",
    "       quechua = \"[start] \" + quechua + \" [end]\"\n",
    "       train_pairs.append((español, quechua))"
   ]
  },
  {
   "cell_type": "code",
   "execution_count": 28,
   "metadata": {
    "id": "XD-lqFXhsE0p"
   },
   "outputs": [],
   "source": [
    "text_file1 = \"Data/train6Es.txt\" \n",
    "text_file2 = \"Data/train6Qu.txt\"\n",
    "\n",
    "with open(text_file1,encoding=\"utf-8\") as f:\n",
    "    lines1 = f.read().split(\"\\n\")[:-1]\n",
    "with open(text_file2,encoding=\"utf-8\") as f:\n",
    "    lines2 = f.read().split(\"\\n\")[:-1]\n",
    "\n",
    "for i in range(0,len(lines2)):\n",
    "    español  = lines1[i]\n",
    "    quechua  = lines2[i]\n",
    "    if español != quechua:\n",
    "       quechua = \"[start] \" + quechua + \" [end]\"\n",
    "       train_pairs.append((español, quechua))"
   ]
  },
  {
   "cell_type": "code",
   "execution_count": 29,
   "metadata": {
    "id": "SGpOVmKzsFnO"
   },
   "outputs": [],
   "source": [
    "text_file1 = \"Data/train7Es.txt\" \n",
    "text_file2 = \"Data/train7Qu.txt\"\n",
    "\n",
    "with open(text_file1,encoding=\"utf-8\") as f:\n",
    "    lines1 = f.read().split(\"\\n\")[:-1]\n",
    "with open(text_file2,encoding=\"utf-8\") as f:\n",
    "    lines2 = f.read().split(\"\\n\")[:-1]\n",
    "\n",
    "for i in range(0,len(lines2)):\n",
    "    español  = lines1[i]\n",
    "    quechua  = lines2[i]\n",
    "    if español != quechua:\n",
    "       quechua = \"[start] \" + quechua + \" [end]\"\n",
    "       train_pairs.append((español, quechua))"
   ]
  },
  {
   "cell_type": "code",
   "execution_count": 30,
   "metadata": {
    "id": "OUZvCFH-sGV1"
   },
   "outputs": [],
   "source": [
    "text_file1 = \"Data/train8Es.txt\" \n",
    "text_file2 = \"Data/train8Qu.txt\"\n",
    "\n",
    "with open(text_file1,encoding=\"utf-8\") as f:\n",
    "    lines1 = f.read().split(\"\\n\")[:-1]\n",
    "with open(text_file2,encoding=\"utf-8\") as f:\n",
    "    lines2 = f.read().split(\"\\n\")[:-1]\n",
    "\n",
    "for i in range(0,len(lines2)):\n",
    "    español  = lines1[i]\n",
    "    quechua  = lines2[i]\n",
    "    if español != quechua:\n",
    "       quechua = \"[start] \" + quechua + \" [end]\"\n",
    "       train_pairs.append((español, quechua))"
   ]
  },
  {
   "cell_type": "code",
   "execution_count": 31,
   "metadata": {
    "id": "xtCEB-Z-sHCX"
   },
   "outputs": [],
   "source": [
    "text_file1 = \"Data/train9Es.txt\" \n",
    "text_file2 = \"Data/train9Qu.txt\"\n",
    "\n",
    "with open(text_file1,encoding=\"utf-8\") as f:\n",
    "    lines1 = f.read().split(\"\\n\")[:-1]\n",
    "with open(text_file2,encoding=\"utf-8\") as f:\n",
    "    lines2 = f.read().split(\"\\n\")[:-1]\n",
    "\n",
    "for i in range(0,len(lines2)):\n",
    "    español  = lines1[i]\n",
    "    quechua  = lines2[i]\n",
    "    if español != quechua:\n",
    "       quechua = \"[start] \" + quechua + \" [end]\"\n",
    "       train_pairs.append((español, quechua))"
   ]
  },
  {
   "cell_type": "code",
   "execution_count": 32,
   "metadata": {
    "id": "lpCWPtcBsH34"
   },
   "outputs": [],
   "source": [
    "text_file1 = \"Data/train10Es.txt\" \n",
    "text_file2 = \"Data/train10Qu.txt\"\n",
    "\n",
    "with open(text_file1,encoding=\"utf-8\") as f:\n",
    "    lines1 = f.read().split(\"\\n\")[:-1]\n",
    "with open(text_file2,encoding=\"utf-8\") as f:\n",
    "    lines2 = f.read().split(\"\\n\")[:-1]\n",
    "\n",
    "for i in range(0,len(lines2)):\n",
    "    español  = lines1[i]\n",
    "    quechua  = lines2[i]\n",
    "    if español != quechua:\n",
    "       quechua = \"[start] \" + quechua + \" [end]\"\n",
    "       train_pairs.append((español, quechua))"
   ]
  },
  {
   "cell_type": "code",
   "execution_count": 33,
   "metadata": {
    "id": "4y8-aBYcsIjv"
   },
   "outputs": [],
   "source": [
    "text_file1 = \"Data/train11Es.txt\" \n",
    "text_file2 = \"Data/train11Qu.txt\"\n",
    "\n",
    "with open(text_file1,encoding=\"utf-8\") as f:\n",
    "    lines1 = f.read().split(\"\\n\")[:-1]\n",
    "with open(text_file2,encoding=\"utf-8\") as f:\n",
    "    lines2 = f.read().split(\"\\n\")[:-1]\n",
    "\n",
    "for i in range(0,len(lines2)):\n",
    "    español  = lines1[i]\n",
    "    quechua  = lines2[i]\n",
    "    if español != quechua:\n",
    "       quechua = \"[start] \" + quechua + \" [end]\"\n",
    "       train_pairs.append((español, quechua))"
   ]
  },
  {
   "cell_type": "code",
   "execution_count": 34,
   "metadata": {
    "id": "ROOZC_PsOhmg"
   },
   "outputs": [],
   "source": [
    "text_file1 = \"Data/validationEs.txt\" \n",
    "text_file2 = \"Data/validationQu.txt\"\n",
    "\n",
    "with open(text_file1,encoding=\"utf-8\") as f:\n",
    "    lines1 = f.read().split(\"\\n\")[:-1]\n",
    "with open(text_file2,encoding=\"utf-8\") as f:\n",
    "    lines2 = f.read().split(\"\\n\")[:-1]\n",
    "##text_pairs = [] \n",
    "val_pairs = []\n",
    "\n",
    "for i in range(0,len(lines2)):\n",
    "    español  = lines1[i]\n",
    "    quechua  = lines2[i]\n",
    "    if español != quechua:\n",
    "       quechua = \"[start] \" + quechua + \" [end]\"\n",
    "       ##text_pairs.append((español, quechua))\n",
    "       val_pairs.append((español, quechua))"
   ]
  },
  {
   "cell_type": "code",
   "execution_count": 35,
   "metadata": {
    "id": "UiUTSvz5OuEA"
   },
   "outputs": [],
   "source": [
    "text_file1 = \"Data/testEs.txt\" \n",
    "text_file2 = \"Data/testQu.txt\"\n",
    "\n",
    "with open(text_file1,encoding=\"utf-8\") as f:\n",
    "    lines1 = f.read().split(\"\\n\")[:-1]\n",
    "with open(text_file2,encoding=\"utf-8\") as f:\n",
    "    lines2 = f.read().split(\"\\n\")[:-1]\n",
    "##text_pairs = [] \n",
    "test_pairs = []\n",
    "\n",
    "for i in range(0,len(lines2)):\n",
    "    español  = lines1[i]\n",
    "    quechua  = lines2[i]\n",
    "    if español != quechua:\n",
    "       quechua = \"[start] \" + quechua + \" [end]\"\n",
    "       ##text_pairs.append((español, quechua))\n",
    "       test_pairs.append((español, quechua))"
   ]
  },
  {
   "cell_type": "code",
   "execution_count": 36,
   "metadata": {},
   "outputs": [
    {
     "data": {
      "text/plain": [
       "102285"
      ]
     },
     "execution_count": 36,
     "metadata": {},
     "output_type": "execute_result"
    }
   ],
   "source": [
    "len(train_pairs)"
   ]
  },
  {
   "cell_type": "code",
   "execution_count": 37,
   "metadata": {
    "colab": {
     "base_uri": "https://localhost:8080/"
    },
    "id": "HpjUJxs20HwI",
    "outputId": "9fad1d53-dbb7-450f-956a-b2417d2405da"
   },
   "outputs": [
    {
     "name": "stdout",
     "output_type": "stream",
     "text": [
      "('Al contrario, anímelos y felicítelos.', '[start] Aswanpas kallpachay hinaspa felicitay. [end]')\n"
     ]
    }
   ],
   "source": [
    "import random\n",
    "print(random.choice(train_pairs))"
   ]
  },
  {
   "cell_type": "code",
   "execution_count": 18,
   "metadata": {
    "id": "aaJ6SZvocd_h"
   },
   "outputs": [
    {
     "ename": "NameError",
     "evalue": "name 'text_pairs' is not defined",
     "output_type": "error",
     "traceback": [
      "\u001b[1;31m---------------------------------------------------------------------------\u001b[0m",
      "\u001b[1;31mNameError\u001b[0m                                 Traceback (most recent call last)",
      "\u001b[1;32m<ipython-input-18-5b985ea3057f>\u001b[0m in \u001b[0;36m<module>\u001b[1;34m\u001b[0m\n\u001b[0;32m      1\u001b[0m \u001b[1;32mimport\u001b[0m \u001b[0mrandom\u001b[0m\u001b[1;33m\u001b[0m\u001b[1;33m\u001b[0m\u001b[0m\n\u001b[1;32m----> 2\u001b[1;33m \u001b[0mrandom\u001b[0m\u001b[1;33m.\u001b[0m\u001b[0mshuffle\u001b[0m\u001b[1;33m(\u001b[0m\u001b[0mtext_pairs\u001b[0m\u001b[1;33m)\u001b[0m\u001b[1;33m\u001b[0m\u001b[1;33m\u001b[0m\u001b[0m\n\u001b[0m\u001b[0;32m      3\u001b[0m \u001b[0mnum_val_samples\u001b[0m \u001b[1;33m=\u001b[0m \u001b[0mint\u001b[0m\u001b[1;33m(\u001b[0m\u001b[1;36m0.15\u001b[0m \u001b[1;33m*\u001b[0m \u001b[0mlen\u001b[0m\u001b[1;33m(\u001b[0m\u001b[0mtext_pairs\u001b[0m\u001b[1;33m)\u001b[0m\u001b[1;33m)\u001b[0m\u001b[1;33m\u001b[0m\u001b[1;33m\u001b[0m\u001b[0m\n\u001b[0;32m      4\u001b[0m \u001b[0mnum_train_samples\u001b[0m \u001b[1;33m=\u001b[0m \u001b[0mlen\u001b[0m\u001b[1;33m(\u001b[0m\u001b[0mtext_pairs\u001b[0m\u001b[1;33m)\u001b[0m \u001b[1;33m-\u001b[0m \u001b[1;36m2\u001b[0m \u001b[1;33m*\u001b[0m \u001b[0mnum_val_samples\u001b[0m\u001b[1;33m\u001b[0m\u001b[1;33m\u001b[0m\u001b[0m\n\u001b[0;32m      5\u001b[0m \u001b[0mtrain_pairs\u001b[0m \u001b[1;33m=\u001b[0m \u001b[0mtext_pairs\u001b[0m\u001b[1;33m[\u001b[0m\u001b[1;33m:\u001b[0m\u001b[0mnum_train_samples\u001b[0m\u001b[1;33m]\u001b[0m\u001b[1;33m\u001b[0m\u001b[1;33m\u001b[0m\u001b[0m\n",
      "\u001b[1;31mNameError\u001b[0m: name 'text_pairs' is not defined"
     ]
    }
   ],
   "source": [
    "import random\n",
    "random.shuffle(text_pairs)\n",
    "num_val_samples = int(0.15 * len(text_pairs))\n",
    "num_train_samples = len(text_pairs) - 2 * num_val_samples\n",
    "train_pairs = text_pairs[:num_train_samples]\n",
    "val_pairs = text_pairs[num_train_samples:num_train_samples + num_val_samples]\n",
    "test_pairs = text_pairs[num_train_samples + num_val_samples:]"
   ]
  },
  {
   "cell_type": "markdown",
   "metadata": {
    "id": "oGx4oyiycd_i"
   },
   "source": [
    "**Vectorizando los pares de texto en español y quechua**"
   ]
  },
  {
   "cell_type": "code",
   "execution_count": 48,
   "metadata": {
    "id": "Zujffb7pcd_j"
   },
   "outputs": [],
   "source": [
    "import tensorflow as tf\n",
    "from tensorflow.keras import layers\n",
    "import string\n",
    "import re\n",
    "\n",
    "strip_chars = string.punctuation + \"¿\"\n",
    "strip_chars = strip_chars.replace(\"[\", \"\")\n",
    "strip_chars = strip_chars.replace(\"]\", \"\")\n",
    "\n",
    "##Convierte las letras mayusculas en minusculas\n",
    "def custom_standardization(input_string):\n",
    "    lowercase = tf.strings.lower(input_string) \n",
    "    return tf.strings.regex_replace(\n",
    "        lowercase, f\"[{re.escape(strip_chars)}]\", \"\")\n",
    "\n",
    "vocab_size = 15000   #Tamaño máximo del vocabulario para esta capa.\n",
    "sequence_length = 20  #dimension de la salida\n",
    "\n",
    "source_vectorization = layers.TextVectorization(\n",
    "    max_tokens=vocab_size,\n",
    "    output_mode=\"int\",\n",
    "    output_sequence_length=sequence_length,\n",
    ")\n",
    "target_vectorization = layers.TextVectorization(\n",
    "    max_tokens=vocab_size,\n",
    "    output_mode=\"int\",\n",
    "    output_sequence_length=sequence_length + 1,\n",
    " #  standardize=\"lower_and_strip_punctuation\",\n",
    "    standardize=custom_standardization,\n",
    ")\n",
    "train_spanish_texts = [pair[0] for pair in train_pairs]\n",
    "train_quechua_texts = [pair[1] for pair in train_pairs]\n",
    "source_vectorization.adapt(train_spanish_texts)\n",
    "target_vectorization.adapt(train_quechua_texts)"
   ]
  },
  {
   "cell_type": "markdown",
   "metadata": {
    "id": "jQVjJY_vcd_l"
   },
   "source": [
    "**Preparando conjuntos de datos para la tarea de traducción**"
   ]
  },
  {
   "cell_type": "code",
   "execution_count": 49,
   "metadata": {
    "id": "3f2AkldScd_m"
   },
   "outputs": [],
   "source": [
    "batch_size = 100\n",
    "\n",
    "def format_dataset(spa, que):\n",
    "    spa = source_vectorization(spa)\n",
    "    que = target_vectorization(que)\n",
    "    return ({\n",
    "        \"español\": spa,\n",
    "        \"quechua\": que[:, :-1],\n",
    "    }, que[:, 1:])\n",
    "\n",
    "def make_dataset(pairs):\n",
    "    spa_texts, que_texts = zip(*pairs)\n",
    "    spa_texts = list(spa_texts)\n",
    "    que_texts = list(que_texts)\n",
    "    #Representa un conjunto potencialmente grande de elementos.\n",
    "    dataset = tf.data.Dataset.from_tensor_slices((spa_texts, que_texts))\n",
    "    dataset = dataset.batch(batch_size)\n",
    "    dataset = dataset.map(format_dataset, num_parallel_calls=4)\n",
    "    return dataset.shuffle(2048).prefetch(16).cache()\n",
    "\n",
    "train_ds = make_dataset(train_pairs)\n",
    "val_ds = make_dataset(val_pairs)"
   ]
  },
  {
   "cell_type": "code",
   "execution_count": 50,
   "metadata": {},
   "outputs": [
    {
     "data": {
      "text/plain": [
       "{'español': array([[  26,  307,   94, ..., 2387, 5011,  107],\n",
       "        [  45,   41,  122, ...,    4,  228,   10],\n",
       "        [  54,   33,   20, ...,    0,    0,    0],\n",
       "        ...,\n",
       "        [   7,  424,    2, ..., 1375,    3, 1116],\n",
       "        [ 168,  771, 1714, ..., 1027,   16,  109],\n",
       "        [   6,   89,   21, ...,  424,    2,    9]], dtype=int64),\n",
       " 'quechua': array([[    2,   770,    48, ..., 10910,  5551,     3],\n",
       "        [    2,     1,     1, ...,     0,     0,     0],\n",
       "        [    2,    59,     4, ...,     0,     0,     0],\n",
       "        ...,\n",
       "        [    2,  1355,    22, ...,     0,     0,     0],\n",
       "        [    2,     8,  2096, ...,   494,   561,    38],\n",
       "        [    2,    33,   264, ...,     0,     0,     0]], dtype=int64)}"
      ]
     },
     "execution_count": 50,
     "metadata": {},
     "output_type": "execute_result"
    }
   ],
   "source": [
    "import numpy as np\n",
    "example = list(train_ds.as_numpy_iterator())\n",
    "example[0][0]"
   ]
  },
  {
   "cell_type": "code",
   "execution_count": 51,
   "metadata": {},
   "outputs": [],
   "source": [
    "test_ds = make_dataset(test_pairs)\n"
   ]
  },
  {
   "cell_type": "code",
   "execution_count": 52,
   "metadata": {
    "colab": {
     "base_uri": "https://localhost:8080/"
    },
    "id": "aUCAbxB1cd_n",
    "outputId": "d3957fda-644d-4c03-9967-85f3db4fc405"
   },
   "outputs": [
    {
     "name": "stdout",
     "output_type": "stream",
     "text": [
      "inputs['español'].shape: (100, 20)\n",
      "inputs['quechua'].shape: (100, 20)\n",
      "targets.shape: (100, 20)\n"
     ]
    }
   ],
   "source": [
    "for inputs, targets in train_ds.take(1):\n",
    "    print(f\"inputs['español'].shape: {inputs['español'].shape}\")\n",
    "    print(f\"inputs['quechua'].shape: {inputs['quechua'].shape}\")\n",
    "    print(f\"targets.shape: {targets.shape}\")"
   ]
  },
  {
   "cell_type": "markdown",
   "metadata": {
    "id": "4EYWmSldcd_v"
   },
   "source": [
    "### Sequence-to-sequence learning with Transformer"
   ]
  },
  {
   "cell_type": "code",
   "execution_count": 53,
   "metadata": {
    "id": "bVayEf57mbKU"
   },
   "outputs": [],
   "source": [
    "class TransformerEncoder(layers.Layer):\n",
    "    def __init__(self, embed_dim, dense_dim, num_heads, **kwargs):\n",
    "        super().__init__(**kwargs)\n",
    "        self.embed_dim = embed_dim\n",
    "        self.dense_dim = dense_dim\n",
    "        self.num_heads = num_heads\n",
    "        self.attention = layers.MultiHeadAttention(num_heads=num_heads, key_dim=embed_dim)\n",
    "        self.dense_proj = keras.Sequential([layers.Dense(dense_dim, activation=\"relu\"),layers.Dense(embed_dim),]\n",
    "        )\n",
    "        self.layernorm_1 = layers.LayerNormalization()\n",
    "        self.layernorm_2 = layers.LayerNormalization()\n",
    "\n",
    "    def call(self, inputs, mask=None):\n",
    "        if mask is not None:\n",
    "            mask = mask[:, tf.newaxis, :]\n",
    "        attention_output = self.attention(inputs, inputs, attention_mask=mask)\n",
    "        proj_input = self.layernorm_1(inputs + attention_output)\n",
    "        proj_output = self.dense_proj(proj_input)\n",
    "        return self.layernorm_2(proj_input + proj_output)\n",
    "\n",
    "    def get_config(self):\n",
    "        config = super().get_config()\n",
    "        config.update({\n",
    "            \"embed_dim\": self.embed_dim,\n",
    "            \"num_heads\": self.num_heads,\n",
    "            \"dense_dim\": self.dense_dim,\n",
    "        })\n",
    "        return config"
   ]
  },
  {
   "cell_type": "markdown",
   "metadata": {
    "id": "KI-aCOmpcd_w"
   },
   "source": [
    "#### The Transformer decoder"
   ]
  },
  {
   "cell_type": "markdown",
   "metadata": {
    "id": "lnKhcitHcd_x"
   },
   "source": [
    "**The `TransformerDecoder`**"
   ]
  },
  {
   "cell_type": "code",
   "execution_count": 54,
   "metadata": {
    "id": "VzNdRzz_cd_y"
   },
   "outputs": [],
   "source": [
    "class TransformerDecoder(layers.Layer):\n",
    "    def __init__(self, embed_dim, dense_dim, num_heads, **kwargs):\n",
    "        super().__init__(**kwargs)\n",
    "        self.embed_dim = embed_dim\n",
    "        self.dense_dim = dense_dim\n",
    "        self.num_heads = num_heads\n",
    "        self.attention_1 = layers.MultiHeadAttention(num_heads=num_heads, key_dim=embed_dim)\n",
    "        self.attention_2 = layers.MultiHeadAttention(num_heads=num_heads, key_dim=embed_dim)\n",
    "        self.dense_proj = keras.Sequential([layers.Dense(dense_dim, activation=\"relu\"),layers.Dense(embed_dim),]\n",
    "        )\n",
    "        self.layernorm_1 = layers.LayerNormalization()\n",
    "        self.layernorm_2 = layers.LayerNormalization()\n",
    "        self.layernorm_3 = layers.LayerNormalization()\n",
    "        self.supports_masking = True\n",
    "\n",
    "    def get_config(self):\n",
    "        config = super().get_config()\n",
    "        config.update({\n",
    "            \"embed_dim\": self.embed_dim,\n",
    "            \"num_heads\": self.num_heads,\n",
    "            \"dense_dim\": self.dense_dim,\n",
    "        })\n",
    "        return config\n",
    "\n",
    "    def get_causal_attention_mask(self, inputs):\n",
    "        input_shape = tf.shape(inputs)\n",
    "        batch_size, sequence_length = input_shape[0], input_shape[1]\n",
    "        i = tf.range(sequence_length)[:, tf.newaxis]\n",
    "        j = tf.range(sequence_length)\n",
    "        mask = tf.cast(i >= j, dtype=\"int32\")\n",
    "        mask = tf.reshape(mask, (1, input_shape[1], input_shape[1]))\n",
    "        mult = tf.concat([tf.expand_dims(batch_size, -1),tf.constant([1, 1], dtype=tf.int32)], axis=0)\n",
    "        return tf.tile(mask, mult)\n",
    "\n",
    "    def call(self, inputs, encoder_outputs, mask=None):\n",
    "        causal_mask = self.get_causal_attention_mask(inputs)\n",
    "        if mask is not None:\n",
    "            padding_mask = tf.cast(mask[:, tf.newaxis, :], dtype=\"int32\")\n",
    "            padding_mask = tf.minimum(padding_mask, causal_mask)\n",
    "        attention_output_1 = self.attention_1(query=inputs,value=inputs,key=inputs,attention_mask=causal_mask)\n",
    "        attention_output_1 = self.layernorm_1(inputs + attention_output_1)\n",
    "        attention_output_2 = self.attention_2(query=attention_output_1,value=encoder_outputs,key=encoder_outputs,attention_mask=padding_mask,)\n",
    "        attention_output_2 = self.layernorm_2(attention_output_1 + attention_output_2)\n",
    "        proj_output = self.dense_proj(attention_output_2)\n",
    "        return self.layernorm_3(attention_output_2 + proj_output)"
   ]
  },
  {
   "cell_type": "markdown",
   "metadata": {
    "id": "BD7b3HMKcd_z"
   },
   "source": [
    "#### Putting it all together: A Transformer for machine translation"
   ]
  },
  {
   "cell_type": "markdown",
   "metadata": {
    "id": "ArKtxCmAcd_z"
   },
   "source": [
    "**PositionalEmbedding layer**"
   ]
  },
  {
   "cell_type": "code",
   "execution_count": 55,
   "metadata": {
    "id": "vLFd6WhNcd_0"
   },
   "outputs": [],
   "source": [
    "class PositionalEmbedding(layers.Layer):\n",
    "    def __init__(self, sequence_length, input_dim, output_dim, **kwargs):\n",
    "        super().__init__(**kwargs)\n",
    "        self.token_embeddings = layers.Embedding(input_dim=input_dim, output_dim=output_dim)\n",
    "        self.position_embeddings = layers.Embedding(input_dim=sequence_length, output_dim=output_dim)\n",
    "        self.sequence_length = sequence_length\n",
    "        self.input_dim = input_dim\n",
    "        self.output_dim = output_dim\n",
    "\n",
    "    def call(self, inputs):\n",
    "        length = tf.shape(inputs)[-1]\n",
    "        positions = tf.range(start=0, limit=length, delta=1)\n",
    "        embedded_tokens = self.token_embeddings(inputs)\n",
    "        embedded_positions = self.position_embeddings(positions)\n",
    "        return embedded_tokens + embedded_positions\n",
    "\n",
    "    def compute_mask(self, inputs, mask=None):\n",
    "        return tf.math.not_equal(inputs, 0)\n",
    "\n",
    "    def get_config(self):\n",
    "        config = super(PositionalEmbedding, self).get_config()\n",
    "        config.update({\n",
    "            \"output_dim\": self.output_dim,\n",
    "            \"sequence_length\": self.sequence_length,\n",
    "            \"input_dim\": self.input_dim,\n",
    "        })\n",
    "        return config"
   ]
  },
  {
   "cell_type": "markdown",
   "metadata": {
    "id": "R6nfZSDkcd_0"
   },
   "source": [
    "**End-to-end Transformer**"
   ]
  },
  {
   "cell_type": "code",
   "execution_count": 62,
   "metadata": {
    "id": "1rRYwvr4cd_1"
   },
   "outputs": [],
   "source": [
    "import keras\n",
    "embed_dim = 256\n",
    "dense_dim = 2048\n",
    "num_heads = 8\n",
    "\n",
    "encoder_inputs = keras.Input(shape=(None,), dtype=\"int64\", name=\"español\")\n",
    "x = PositionalEmbedding(sequence_length, vocab_size, embed_dim)(encoder_inputs)\n",
    "encoder_outputs = TransformerEncoder(embed_dim, dense_dim, num_heads)(x)\n",
    "\n",
    "decoder_inputs = keras.Input(shape=(None,), dtype=\"int64\", name=\"quechua\")\n",
    "x = PositionalEmbedding(sequence_length, vocab_size, embed_dim)(decoder_inputs)\n",
    "x = TransformerDecoder(embed_dim, dense_dim, num_heads)(x, encoder_outputs)\n",
    "x = layers.Dropout(0.5)(x)\n",
    "decoder_outputs = layers.Dense(vocab_size, activation=\"softmax\")(x)\n",
    "transformer = keras.Model([encoder_inputs, decoder_inputs], decoder_outputs)"
   ]
  },
  {
   "cell_type": "code",
   "execution_count": 63,
   "metadata": {
    "colab": {
     "base_uri": "https://localhost:8080/"
    },
    "id": "leszOQ8mJO0W",
    "outputId": "a1da105c-be0f-4e5e-f797-298f2f316a3f"
   },
   "outputs": [
    {
     "name": "stdout",
     "output_type": "stream",
     "text": [
      "Epoch 1/50\n",
      "200/200 [==============================] - 258s 1s/step - loss: 6.4720 - accuracy: 0.2030\n",
      "Epoch 2/50\n",
      "200/200 [==============================] - 260s 1s/step - loss: 5.7770 - accuracy: 0.2526\n",
      "Epoch 3/50\n",
      "200/200 [==============================] - 258s 1s/step - loss: 5.3528 - accuracy: 0.2849\n",
      "Epoch 4/50\n",
      "200/200 [==============================] - 275s 1s/step - loss: 5.0230 - accuracy: 0.3078\n",
      "Epoch 5/50\n",
      "200/200 [==============================] - 277s 1s/step - loss: 4.7042 - accuracy: 0.3337\n",
      "Epoch 6/50\n",
      "200/200 [==============================] - 279s 1s/step - loss: 4.4471 - accuracy: 0.3555\n",
      "Epoch 7/50\n",
      "200/200 [==============================] - 284s 1s/step - loss: 4.1880 - accuracy: 0.3788\n",
      "Epoch 8/50\n",
      "200/200 [==============================] - 278s 1s/step - loss: 3.9563 - accuracy: 0.4004\n",
      "Epoch 9/50\n",
      "200/200 [==============================] - 277s 1s/step - loss: 3.7338 - accuracy: 0.4238\n",
      "Epoch 10/50\n",
      "200/200 [==============================] - 275s 1s/step - loss: 3.5224 - accuracy: 0.4477\n",
      "Epoch 11/50\n",
      "200/200 [==============================] - 277s 1s/step - loss: 3.3221 - accuracy: 0.4717\n",
      "Epoch 12/50\n",
      "200/200 [==============================] - 278s 1s/step - loss: 3.1359 - accuracy: 0.4968\n",
      "Epoch 13/50\n",
      "200/200 [==============================] - 273s 1s/step - loss: 2.9612 - accuracy: 0.5195\n",
      "Epoch 14/50\n",
      "200/200 [==============================] - 257s 1s/step - loss: 2.7891 - accuracy: 0.5438\n",
      "Epoch 15/50\n",
      "200/200 [==============================] - 257s 1s/step - loss: 2.6350 - accuracy: 0.5667\n",
      "Epoch 16/50\n",
      "200/200 [==============================] - 276s 1s/step - loss: 2.5045 - accuracy: 0.5852\n",
      "Epoch 17/50\n",
      "200/200 [==============================] - 256s 1s/step - loss: 2.3811 - accuracy: 0.6050\n",
      "Epoch 18/50\n",
      "200/200 [==============================] - 256s 1s/step - loss: 2.2767 - accuracy: 0.6200\n",
      "Epoch 19/50\n",
      "200/200 [==============================] - 254s 1s/step - loss: 2.1883 - accuracy: 0.6368\n",
      "Epoch 20/50\n",
      "200/200 [==============================] - 262s 1s/step - loss: 2.1123 - accuracy: 0.6495\n",
      "Epoch 21/50\n",
      "200/200 [==============================] - 258s 1s/step - loss: 2.0360 - accuracy: 0.6637\n",
      "Epoch 22/50\n",
      "200/200 [==============================] - 258s 1s/step - loss: 1.9773 - accuracy: 0.6739\n",
      "Epoch 23/50\n",
      "200/200 [==============================] - 258s 1s/step - loss: 1.9339 - accuracy: 0.6822\n",
      "Epoch 24/50\n",
      "200/200 [==============================] - 260s 1s/step - loss: 1.8950 - accuracy: 0.6914\n",
      "Epoch 25/50\n",
      "200/200 [==============================] - 261s 1s/step - loss: 1.8621 - accuracy: 0.6993\n",
      "Epoch 26/50\n",
      "200/200 [==============================] - 258s 1s/step - loss: 1.8365 - accuracy: 0.7044\n",
      "Epoch 27/50\n",
      "200/200 [==============================] - 260s 1s/step - loss: 1.8086 - accuracy: 0.7116\n",
      "Epoch 28/50\n",
      "200/200 [==============================] - 258s 1s/step - loss: 1.7834 - accuracy: 0.7191\n",
      "Epoch 29/50\n",
      "200/200 [==============================] - 263s 1s/step - loss: 1.7814 - accuracy: 0.7203\n",
      "Epoch 30/50\n",
      "200/200 [==============================] - 259s 1s/step - loss: 1.7627 - accuracy: 0.7258\n",
      "Epoch 31/50\n",
      "200/200 [==============================] - 264s 1s/step - loss: 1.7476 - accuracy: 0.7314\n",
      "Epoch 32/50\n",
      "200/200 [==============================] - 266s 1s/step - loss: 1.7415 - accuracy: 0.7351\n",
      "Epoch 33/50\n",
      "200/200 [==============================] - 262s 1s/step - loss: 1.7336 - accuracy: 0.7388\n",
      "Epoch 34/50\n",
      "200/200 [==============================] - 261s 1s/step - loss: 1.7254 - accuracy: 0.7434\n",
      "Epoch 35/50\n",
      "200/200 [==============================] - 270s 1s/step - loss: 1.7193 - accuracy: 0.7464\n",
      "Epoch 36/50\n",
      "200/200 [==============================] - 259s 1s/step - loss: 1.7218 - accuracy: 0.7471\n",
      "Epoch 37/50\n",
      "200/200 [==============================] - 258s 1s/step - loss: 1.7136 - accuracy: 0.7495\n",
      "Epoch 38/50\n",
      "200/200 [==============================] - 273s 1s/step - loss: 1.7079 - accuracy: 0.7524\n",
      "Epoch 39/50\n",
      "200/200 [==============================] - 280s 1s/step - loss: 1.7017 - accuracy: 0.7559\n",
      "Epoch 40/50\n",
      "200/200 [==============================] - 279s 1s/step - loss: 1.7004 - accuracy: 0.7580\n",
      "Epoch 41/50\n",
      "200/200 [==============================] - 285s 1s/step - loss: 1.7036 - accuracy: 0.7584\n",
      "Epoch 42/50\n",
      "200/200 [==============================] - 277s 1s/step - loss: 1.7038 - accuracy: 0.7602\n",
      "Epoch 43/50\n",
      "200/200 [==============================] - 275s 1s/step - loss: 1.7017 - accuracy: 0.7621\n",
      "Epoch 44/50\n",
      "200/200 [==============================] - 277s 1s/step - loss: 1.6906 - accuracy: 0.7647\n",
      "Epoch 45/50\n",
      "200/200 [==============================] - 278s 1s/step - loss: 1.6962 - accuracy: 0.7647\n",
      "Epoch 46/50\n",
      "200/200 [==============================] - 280s 1s/step - loss: 1.6935 - accuracy: 0.7671\n",
      "Epoch 47/50\n",
      "200/200 [==============================] - 279s 1s/step - loss: 1.6911 - accuracy: 0.7683\n",
      "Epoch 48/50\n",
      "200/200 [==============================] - 283s 1s/step - loss: 1.6890 - accuracy: 0.7694\n",
      "Epoch 49/50\n",
      "200/200 [==============================] - 281s 1s/step - loss: 1.6925 - accuracy: 0.7693\n",
      "Epoch 50/50\n",
      "200/200 [==============================] - 284s 1s/step - loss: 1.6856 - accuracy: 0.7727\n"
     ]
    },
    {
     "data": {
      "text/plain": [
       "<keras.callbacks.History at 0x28ac27964c0>"
      ]
     },
     "execution_count": 63,
     "metadata": {},
     "output_type": "execute_result"
    }
   ],
   "source": [
    "transformer.compile(\n",
    "    optimizer=\"rmsprop\",\n",
    "    loss=\"sparse_categorical_crossentropy\",\n",
    "    metrics=[\"accuracy\"])\n",
    "#transformer.fit(train_ds, epochs=30, validation_data=val_ds)\n",
    "transformer.fit(train_ds, epochs=50)"
   ]
  },
  {
   "cell_type": "markdown",
   "metadata": {
    "id": "9_AMSNPLcd_2"
   },
   "source": [
    "**Training the sequence-to-sequence Transformer**"
   ]
  },
  {
   "cell_type": "code",
   "execution_count": 56,
   "metadata": {
    "colab": {
     "base_uri": "https://localhost:8080/"
    },
    "id": "B3e9_cLicd_3",
    "outputId": "3c239659-2859-4d53-fad2-ff3decfd56b7"
   },
   "outputs": [
    {
     "name": "stdout",
     "output_type": "stream",
     "text": [
      "-\n",
      "Para empezar, Adán perdió su vida, pero no una vida como la nuestra, de 70 u 80 años: perdió la oportunidad de vivir para siempre.\n",
      "[start] qallarinapaq [UNK] [UNK] ichaqa manan kawsayninchispi [UNK] imaynan adanwan pichqa wata otaq [UNK] mana [UNK] chay hinatan sapa kutilla kawsayninta\n",
      "-\n",
      "La Biblia recomienda el equilibrio: nos anima a trabajar duro, pero también a disfrutar de los beneficios; ese es “el don de Dios ”.\n",
      "[start] biblian yanapawasun [UNK] chhaynata [UNK] [UNK] ichaqa sinchitan [UNK] allin takyasqa [UNK] [end]\n",
      "-\n",
      "Juliza comprobó que los consejos de la Palabra de Dios son muy sabios.\n",
      "[start] [UNK] [UNK] diospa simin qelqa paykunata ancha [UNK] [end]\n",
      "-\n",
      "b) ¿Qué debemos hacer si nos surgen deseos sexuales inmorales?\n",
      "[start] b imatan ruwananchis warmiqhari warmiqhari puñuypi [UNK] chayqa [end]\n",
      "-\n",
      "SIN duda alguna, la Biblia no tiene rival en la historia.\n",
      "[start] mana iskayrayaspa bibliapa [UNK] manam [UNK] [end]\n",
      "-\n",
      "En 1975 fui a Roma varias veces para hablar de lo que estaba aprendiendo. Mis superiores trataron de convencerme de que estaba equivocado, pero ninguno usó la Biblia.\n",
      "[start] kunanqa [UNK] llaqtapi askha kutipin [UNK] rirqani chaymi [UNK] [UNK] jehová diospa sutinpi propÓsito [end]\n",
      "-\n",
      "Con todo, Gordon empezó a estudiar la Biblia y enseguida se convenció de haber encontrado la verdad.\n",
      "[start] ichaqa chay [UNK] [UNK] usqhayllan [UNK] qallarirqan jehová diosta [UNK] [end]\n",
      "-\n",
      "¡Nombremos un cabeza, y volvámonos a Egipto! ” ¿Cómo afectó a Jehová la desobediencia de Israel?\n",
      "[start] [UNK] sutiyoq warmin israel runakunata prometesqa [UNK] jehová diosta [UNK] israel [UNK] [end]\n",
      "-\n",
      "Acepté la verdad enseguida y comenzamos una larga amistad.\n",
      "[start] chayllam [UNK] chay temamanta [UNK] [end]\n",
      "-\n",
      "Y muchas personas no se dan cuenta de que en realidad no todas las cosas que quieren son necesarias para vivir.\n",
      "[start] hinaspapas askha runakunan mana tukuy [UNK] kanku [UNK] [UNK] [UNK] [UNK] [UNK] [end]\n",
      "-\n",
      "Un hombre que aprendió esta lección fue Job.\n",
      "[start] chay [UNK] job librota [UNK] [end]\n",
      "-\n",
      "Durante incontables milenios, Jehová — “el Anciano de Días ” — ha ejercido su autoridad como Soberano sobre una inmensa y organizada familia de hijos espirituales.\n",
      "[start] kimsa chunka [UNK] jehová dios [UNK] [UNK] hatun atiyniyoq kapurqan [UNK] [UNK] [UNK] [end]\n",
      "-\n",
      "Agotado por su viaje bajo el ardiente sol, el profeta se sentó bajo un arbusto y le pidió a Dios que le quitara la vida.\n",
      "[start] [UNK] chay [UNK] [UNK] [UNK] [UNK] diosta mañakurqan [UNK] huk allpata [UNK] [UNK] [end]\n",
      "-\n",
      "• ¿Cómo puede el esposo imitar al Pastor Excelente?\n",
      "[start] • imaynatan qosapas allin yachachiq [UNK] [end]\n",
      "-\n",
      "Por ejemplo, le dicen al niño: “Mi cielo, ¿quieres recoger tu cuarto, por favor? ”.\n",
      "[start] ejemplopaq [UNK] churinta [UNK] [UNK] nispa ninku [end]\n",
      "-\n",
      "La expresión “se halla agitado ” traduce un verbo hebreo que originalmente significa“ borbotear ” o “hervir ”.\n",
      "[start] chay simiqa hebreo [UNK] nisqa simiqa hebreo [UNK] [UNK] otaq [UNK] nisqa simiqa [UNK] [UNK] [UNK] niyta munan [end]\n",
      "-\n",
      "¡Cuánto me alegro de no haber ido a la universidad! ”.\n",
      "[start] ¡anchatan agradecekuni hatun [UNK] [UNK] ” [end]\n",
      "-\n",
      "Volvamos a la comparación del viaje.\n",
      "[start] chay [UNK] yachasun [end]\n",
      "-\n",
      "La Biblia dice: “Si a alguno de ustedes le falta sabiduría [especialmente cuando enfrenta desafíos], pídasela a Dios, y él se la dará. Dios es generoso y nos da todo con agrado ”.\n",
      "[start] biblian nin “pipas [UNK] chayqa astawan diostan [UNK] [UNK] payqa [UNK] nispa [end]\n",
      "-\n",
      "No obstante, no dejó que lo perturbara aquella circunstancia, por frustrante que fuera.\n",
      "[start] ichaqa manan chay [UNK] [UNK] chhayna [UNK] [end]\n"
     ]
    }
   ],
   "source": [
    "import numpy as np\n",
    "spa_vocab = target_vectorization.get_vocabulary()\n",
    "spa_index_lookup = dict(zip(range(len(spa_vocab)), spa_vocab))\n",
    "max_decoded_sentence_length = 20\n",
    "\n",
    "def decode_sequence(input_sentence):\n",
    "    tokenized_input_sentence = source_vectorization([input_sentence])\n",
    "    decoded_sentence = \"[start]\"\n",
    "    for i in range(max_decoded_sentence_length):\n",
    "        tokenized_target_sentence = target_vectorization([decoded_sentence])[:, :-1]\n",
    "        predictions = transformer([tokenized_input_sentence, tokenized_target_sentence])\n",
    "        ##predictions = new_model([tokenized_input_sentence, tokenized_target_sentence])\n",
    "        sampled_token_index = np.argmax(predictions[0, i, :])\n",
    "        sampled_token = spa_index_lookup[sampled_token_index]\n",
    "        decoded_sentence += \" \" + sampled_token\n",
    "        if sampled_token == \"[end]\":\n",
    "            break\n",
    "    return decoded_sentence\n",
    "\n",
    "test_spa_texts = [pair[0] for pair in test_pairs]\n",
    "#traduccion = []\n",
    "for i in range(0,20):\n",
    "    input_sentence = test_spa_texts[i]\n",
    "    print(\"-\")\n",
    "    print(input_sentence)\n",
    "    print(decode_sequence(input_sentence))\n",
    "    #traduccion.append(decode_sequence(input_sentence))"
   ]
  },
  {
   "cell_type": "markdown",
   "metadata": {
    "id": "F8bJqYy3cd_4"
   },
   "source": [
    "## Precision del modelo"
   ]
  },
  {
   "cell_type": "code",
   "execution_count": 20,
   "metadata": {},
   "outputs": [],
   "source": [
    "import keras\n",
    "transformer = keras.models.load_model('path_to_my_model.h5',custom_objects={'PositionalEmbedding': PositionalEmbedding,'TransformerEncoder': TransformerEncoder,'TransformerDecoder':TransformerDecoder})"
   ]
  },
  {
   "cell_type": "code",
   "execution_count": 26,
   "metadata": {},
   "outputs": [
    {
     "name": "stdout",
     "output_type": "stream",
     "text": [
      "1023/1023 [==============================] - 2531s 2s/step - loss: 2.7506 - accuracy: 0.6055 - val_loss: 4.3933 - val_accuracy: 0.4386\n"
     ]
    },
    {
     "data": {
      "text/plain": [
       "<keras.callbacks.History at 0x1ec62771460>"
      ]
     },
     "execution_count": 26,
     "metadata": {},
     "output_type": "execute_result"
    }
   ],
   "source": [
    "new_model.fit(train_ds, epochs=1, validation_data=val_ds)\n",
    "#new_model.fit(train_ds, epochs=1)"
   ]
  },
  {
   "cell_type": "code",
   "execution_count": 25,
   "metadata": {},
   "outputs": [],
   "source": [
    "#new_model.save('path_to_my_model.h5')\n",
    "transformer.save('path_to_my_model2.h5')"
   ]
  },
  {
   "cell_type": "code",
   "execution_count": 28,
   "metadata": {},
   "outputs": [
    {
     "name": "stdout",
     "output_type": "stream",
     "text": [
      "   8/1023 [..............................] - ETA: 40:10 - loss: 3.2924 - accuracy: 0.5112"
     ]
    },
    {
     "ename": "KeyboardInterrupt",
     "evalue": "",
     "output_type": "error",
     "traceback": [
      "\u001b[1;31m---------------------------------------------------------------------------\u001b[0m",
      "\u001b[1;31mKeyboardInterrupt\u001b[0m                         Traceback (most recent call last)",
      "\u001b[1;32m<ipython-input-28-781edbb72f3b>\u001b[0m in \u001b[0;36m<module>\u001b[1;34m\u001b[0m\n\u001b[1;32m----> 1\u001b[1;33m \u001b[0mtransformer\u001b[0m\u001b[1;33m.\u001b[0m\u001b[0mfit\u001b[0m\u001b[1;33m(\u001b[0m\u001b[0mtrain_ds\u001b[0m\u001b[1;33m,\u001b[0m \u001b[0mepochs\u001b[0m\u001b[1;33m=\u001b[0m\u001b[1;36m1\u001b[0m\u001b[1;33m,\u001b[0m \u001b[0mvalidation_data\u001b[0m\u001b[1;33m=\u001b[0m\u001b[0mval_ds\u001b[0m\u001b[1;33m)\u001b[0m\u001b[1;33m\u001b[0m\u001b[1;33m\u001b[0m\u001b[0m\n\u001b[0m",
      "\u001b[1;32m~\\anaconda3\\lib\\site-packages\\keras\\utils\\traceback_utils.py\u001b[0m in \u001b[0;36merror_handler\u001b[1;34m(*args, **kwargs)\u001b[0m\n\u001b[0;32m     63\u001b[0m         \u001b[0mfiltered_tb\u001b[0m \u001b[1;33m=\u001b[0m \u001b[1;32mNone\u001b[0m\u001b[1;33m\u001b[0m\u001b[1;33m\u001b[0m\u001b[0m\n\u001b[0;32m     64\u001b[0m         \u001b[1;32mtry\u001b[0m\u001b[1;33m:\u001b[0m\u001b[1;33m\u001b[0m\u001b[1;33m\u001b[0m\u001b[0m\n\u001b[1;32m---> 65\u001b[1;33m             \u001b[1;32mreturn\u001b[0m \u001b[0mfn\u001b[0m\u001b[1;33m(\u001b[0m\u001b[1;33m*\u001b[0m\u001b[0margs\u001b[0m\u001b[1;33m,\u001b[0m \u001b[1;33m**\u001b[0m\u001b[0mkwargs\u001b[0m\u001b[1;33m)\u001b[0m\u001b[1;33m\u001b[0m\u001b[1;33m\u001b[0m\u001b[0m\n\u001b[0m\u001b[0;32m     66\u001b[0m         \u001b[1;32mexcept\u001b[0m \u001b[0mException\u001b[0m \u001b[1;32mas\u001b[0m \u001b[0me\u001b[0m\u001b[1;33m:\u001b[0m\u001b[1;33m\u001b[0m\u001b[1;33m\u001b[0m\u001b[0m\n\u001b[0;32m     67\u001b[0m             \u001b[0mfiltered_tb\u001b[0m \u001b[1;33m=\u001b[0m \u001b[0m_process_traceback_frames\u001b[0m\u001b[1;33m(\u001b[0m\u001b[0me\u001b[0m\u001b[1;33m.\u001b[0m\u001b[0m__traceback__\u001b[0m\u001b[1;33m)\u001b[0m\u001b[1;33m\u001b[0m\u001b[1;33m\u001b[0m\u001b[0m\n",
      "\u001b[1;32m~\\anaconda3\\lib\\site-packages\\keras\\engine\\training.py\u001b[0m in \u001b[0;36mfit\u001b[1;34m(self, x, y, batch_size, epochs, verbose, callbacks, validation_split, validation_data, shuffle, class_weight, sample_weight, initial_epoch, steps_per_epoch, validation_steps, validation_batch_size, validation_freq, max_queue_size, workers, use_multiprocessing)\u001b[0m\n\u001b[0;32m   1648\u001b[0m                         ):\n\u001b[0;32m   1649\u001b[0m                             \u001b[0mcallbacks\u001b[0m\u001b[1;33m.\u001b[0m\u001b[0mon_train_batch_begin\u001b[0m\u001b[1;33m(\u001b[0m\u001b[0mstep\u001b[0m\u001b[1;33m)\u001b[0m\u001b[1;33m\u001b[0m\u001b[1;33m\u001b[0m\u001b[0m\n\u001b[1;32m-> 1650\u001b[1;33m                             \u001b[0mtmp_logs\u001b[0m \u001b[1;33m=\u001b[0m \u001b[0mself\u001b[0m\u001b[1;33m.\u001b[0m\u001b[0mtrain_function\u001b[0m\u001b[1;33m(\u001b[0m\u001b[0miterator\u001b[0m\u001b[1;33m)\u001b[0m\u001b[1;33m\u001b[0m\u001b[1;33m\u001b[0m\u001b[0m\n\u001b[0m\u001b[0;32m   1651\u001b[0m                             \u001b[1;32mif\u001b[0m \u001b[0mdata_handler\u001b[0m\u001b[1;33m.\u001b[0m\u001b[0mshould_sync\u001b[0m\u001b[1;33m:\u001b[0m\u001b[1;33m\u001b[0m\u001b[1;33m\u001b[0m\u001b[0m\n\u001b[0;32m   1652\u001b[0m                                 \u001b[0mcontext\u001b[0m\u001b[1;33m.\u001b[0m\u001b[0masync_wait\u001b[0m\u001b[1;33m(\u001b[0m\u001b[1;33m)\u001b[0m\u001b[1;33m\u001b[0m\u001b[1;33m\u001b[0m\u001b[0m\n",
      "\u001b[1;32m~\\anaconda3\\lib\\site-packages\\tensorflow\\python\\util\\traceback_utils.py\u001b[0m in \u001b[0;36merror_handler\u001b[1;34m(*args, **kwargs)\u001b[0m\n\u001b[0;32m    148\u001b[0m     \u001b[0mfiltered_tb\u001b[0m \u001b[1;33m=\u001b[0m \u001b[1;32mNone\u001b[0m\u001b[1;33m\u001b[0m\u001b[1;33m\u001b[0m\u001b[0m\n\u001b[0;32m    149\u001b[0m     \u001b[1;32mtry\u001b[0m\u001b[1;33m:\u001b[0m\u001b[1;33m\u001b[0m\u001b[1;33m\u001b[0m\u001b[0m\n\u001b[1;32m--> 150\u001b[1;33m       \u001b[1;32mreturn\u001b[0m \u001b[0mfn\u001b[0m\u001b[1;33m(\u001b[0m\u001b[1;33m*\u001b[0m\u001b[0margs\u001b[0m\u001b[1;33m,\u001b[0m \u001b[1;33m**\u001b[0m\u001b[0mkwargs\u001b[0m\u001b[1;33m)\u001b[0m\u001b[1;33m\u001b[0m\u001b[1;33m\u001b[0m\u001b[0m\n\u001b[0m\u001b[0;32m    151\u001b[0m     \u001b[1;32mexcept\u001b[0m \u001b[0mException\u001b[0m \u001b[1;32mas\u001b[0m \u001b[0me\u001b[0m\u001b[1;33m:\u001b[0m\u001b[1;33m\u001b[0m\u001b[1;33m\u001b[0m\u001b[0m\n\u001b[0;32m    152\u001b[0m       \u001b[0mfiltered_tb\u001b[0m \u001b[1;33m=\u001b[0m \u001b[0m_process_traceback_frames\u001b[0m\u001b[1;33m(\u001b[0m\u001b[0me\u001b[0m\u001b[1;33m.\u001b[0m\u001b[0m__traceback__\u001b[0m\u001b[1;33m)\u001b[0m\u001b[1;33m\u001b[0m\u001b[1;33m\u001b[0m\u001b[0m\n",
      "\u001b[1;32m~\\anaconda3\\lib\\site-packages\\tensorflow\\python\\eager\\polymorphic_function\\polymorphic_function.py\u001b[0m in \u001b[0;36m__call__\u001b[1;34m(self, *args, **kwds)\u001b[0m\n\u001b[0;32m    878\u001b[0m \u001b[1;33m\u001b[0m\u001b[0m\n\u001b[0;32m    879\u001b[0m       \u001b[1;32mwith\u001b[0m \u001b[0mOptionalXlaContext\u001b[0m\u001b[1;33m(\u001b[0m\u001b[0mself\u001b[0m\u001b[1;33m.\u001b[0m\u001b[0m_jit_compile\u001b[0m\u001b[1;33m)\u001b[0m\u001b[1;33m:\u001b[0m\u001b[1;33m\u001b[0m\u001b[1;33m\u001b[0m\u001b[0m\n\u001b[1;32m--> 880\u001b[1;33m         \u001b[0mresult\u001b[0m \u001b[1;33m=\u001b[0m \u001b[0mself\u001b[0m\u001b[1;33m.\u001b[0m\u001b[0m_call\u001b[0m\u001b[1;33m(\u001b[0m\u001b[1;33m*\u001b[0m\u001b[0margs\u001b[0m\u001b[1;33m,\u001b[0m \u001b[1;33m**\u001b[0m\u001b[0mkwds\u001b[0m\u001b[1;33m)\u001b[0m\u001b[1;33m\u001b[0m\u001b[1;33m\u001b[0m\u001b[0m\n\u001b[0m\u001b[0;32m    881\u001b[0m \u001b[1;33m\u001b[0m\u001b[0m\n\u001b[0;32m    882\u001b[0m       \u001b[0mnew_tracing_count\u001b[0m \u001b[1;33m=\u001b[0m \u001b[0mself\u001b[0m\u001b[1;33m.\u001b[0m\u001b[0mexperimental_get_tracing_count\u001b[0m\u001b[1;33m(\u001b[0m\u001b[1;33m)\u001b[0m\u001b[1;33m\u001b[0m\u001b[1;33m\u001b[0m\u001b[0m\n",
      "\u001b[1;32m~\\anaconda3\\lib\\site-packages\\tensorflow\\python\\eager\\polymorphic_function\\polymorphic_function.py\u001b[0m in \u001b[0;36m_call\u001b[1;34m(self, *args, **kwds)\u001b[0m\n\u001b[0;32m    910\u001b[0m       \u001b[1;31m# In this case we have created variables on the first call, so we run the\u001b[0m\u001b[1;33m\u001b[0m\u001b[1;33m\u001b[0m\u001b[0m\n\u001b[0;32m    911\u001b[0m       \u001b[1;31m# defunned version which is guaranteed to never create variables.\u001b[0m\u001b[1;33m\u001b[0m\u001b[1;33m\u001b[0m\u001b[0m\n\u001b[1;32m--> 912\u001b[1;33m       \u001b[1;32mreturn\u001b[0m \u001b[0mself\u001b[0m\u001b[1;33m.\u001b[0m\u001b[0m_no_variable_creation_fn\u001b[0m\u001b[1;33m(\u001b[0m\u001b[1;33m*\u001b[0m\u001b[0margs\u001b[0m\u001b[1;33m,\u001b[0m \u001b[1;33m**\u001b[0m\u001b[0mkwds\u001b[0m\u001b[1;33m)\u001b[0m  \u001b[1;31m# pylint: disable=not-callable\u001b[0m\u001b[1;33m\u001b[0m\u001b[1;33m\u001b[0m\u001b[0m\n\u001b[0m\u001b[0;32m    913\u001b[0m     \u001b[1;32melif\u001b[0m \u001b[0mself\u001b[0m\u001b[1;33m.\u001b[0m\u001b[0m_variable_creation_fn\u001b[0m \u001b[1;32mis\u001b[0m \u001b[1;32mnot\u001b[0m \u001b[1;32mNone\u001b[0m\u001b[1;33m:\u001b[0m\u001b[1;33m\u001b[0m\u001b[1;33m\u001b[0m\u001b[0m\n\u001b[0;32m    914\u001b[0m       \u001b[1;31m# Release the lock early so that multiple threads can perform the call\u001b[0m\u001b[1;33m\u001b[0m\u001b[1;33m\u001b[0m\u001b[0m\n",
      "\u001b[1;32m~\\anaconda3\\lib\\site-packages\\tensorflow\\python\\eager\\polymorphic_function\\tracing_compiler.py\u001b[0m in \u001b[0;36m__call__\u001b[1;34m(self, *args, **kwargs)\u001b[0m\n\u001b[0;32m    132\u001b[0m       (concrete_function,\n\u001b[0;32m    133\u001b[0m        filtered_flat_args) = self._maybe_define_function(args, kwargs)\n\u001b[1;32m--> 134\u001b[1;33m     return concrete_function._call_flat(\n\u001b[0m\u001b[0;32m    135\u001b[0m         filtered_flat_args, captured_inputs=concrete_function.captured_inputs)  # pylint: disable=protected-access\n\u001b[0;32m    136\u001b[0m \u001b[1;33m\u001b[0m\u001b[0m\n",
      "\u001b[1;32m~\\anaconda3\\lib\\site-packages\\tensorflow\\python\\eager\\polymorphic_function\\monomorphic_function.py\u001b[0m in \u001b[0;36m_call_flat\u001b[1;34m(self, args, captured_inputs, cancellation_manager)\u001b[0m\n\u001b[0;32m   1743\u001b[0m         and executing_eagerly):\n\u001b[0;32m   1744\u001b[0m       \u001b[1;31m# No tape is watching; skip to running the function.\u001b[0m\u001b[1;33m\u001b[0m\u001b[1;33m\u001b[0m\u001b[0m\n\u001b[1;32m-> 1745\u001b[1;33m       return self._build_call_outputs(self._inference_function.call(\n\u001b[0m\u001b[0;32m   1746\u001b[0m           ctx, args, cancellation_manager=cancellation_manager))\n\u001b[0;32m   1747\u001b[0m     forward_backward = self._select_forward_and_backward_functions(\n",
      "\u001b[1;32m~\\anaconda3\\lib\\site-packages\\tensorflow\\python\\eager\\polymorphic_function\\monomorphic_function.py\u001b[0m in \u001b[0;36mcall\u001b[1;34m(self, ctx, args, cancellation_manager)\u001b[0m\n\u001b[0;32m    376\u001b[0m       \u001b[1;32mwith\u001b[0m \u001b[0m_InterpolateFunctionError\u001b[0m\u001b[1;33m(\u001b[0m\u001b[0mself\u001b[0m\u001b[1;33m)\u001b[0m\u001b[1;33m:\u001b[0m\u001b[1;33m\u001b[0m\u001b[1;33m\u001b[0m\u001b[0m\n\u001b[0;32m    377\u001b[0m         \u001b[1;32mif\u001b[0m \u001b[0mcancellation_manager\u001b[0m \u001b[1;32mis\u001b[0m \u001b[1;32mNone\u001b[0m\u001b[1;33m:\u001b[0m\u001b[1;33m\u001b[0m\u001b[1;33m\u001b[0m\u001b[0m\n\u001b[1;32m--> 378\u001b[1;33m           outputs = execute.execute(\n\u001b[0m\u001b[0;32m    379\u001b[0m               \u001b[0mstr\u001b[0m\u001b[1;33m(\u001b[0m\u001b[0mself\u001b[0m\u001b[1;33m.\u001b[0m\u001b[0msignature\u001b[0m\u001b[1;33m.\u001b[0m\u001b[0mname\u001b[0m\u001b[1;33m)\u001b[0m\u001b[1;33m,\u001b[0m\u001b[1;33m\u001b[0m\u001b[1;33m\u001b[0m\u001b[0m\n\u001b[0;32m    380\u001b[0m               \u001b[0mnum_outputs\u001b[0m\u001b[1;33m=\u001b[0m\u001b[0mself\u001b[0m\u001b[1;33m.\u001b[0m\u001b[0m_num_outputs\u001b[0m\u001b[1;33m,\u001b[0m\u001b[1;33m\u001b[0m\u001b[1;33m\u001b[0m\u001b[0m\n",
      "\u001b[1;32m~\\anaconda3\\lib\\site-packages\\tensorflow\\python\\eager\\execute.py\u001b[0m in \u001b[0;36mquick_execute\u001b[1;34m(op_name, num_outputs, inputs, attrs, ctx, name)\u001b[0m\n\u001b[0;32m     50\u001b[0m   \u001b[1;32mtry\u001b[0m\u001b[1;33m:\u001b[0m\u001b[1;33m\u001b[0m\u001b[1;33m\u001b[0m\u001b[0m\n\u001b[0;32m     51\u001b[0m     \u001b[0mctx\u001b[0m\u001b[1;33m.\u001b[0m\u001b[0mensure_initialized\u001b[0m\u001b[1;33m(\u001b[0m\u001b[1;33m)\u001b[0m\u001b[1;33m\u001b[0m\u001b[1;33m\u001b[0m\u001b[0m\n\u001b[1;32m---> 52\u001b[1;33m     tensors = pywrap_tfe.TFE_Py_Execute(ctx._handle, device_name, op_name,\n\u001b[0m\u001b[0;32m     53\u001b[0m                                         inputs, attrs, num_outputs)\n\u001b[0;32m     54\u001b[0m   \u001b[1;32mexcept\u001b[0m \u001b[0mcore\u001b[0m\u001b[1;33m.\u001b[0m\u001b[0m_NotOkStatusException\u001b[0m \u001b[1;32mas\u001b[0m \u001b[0me\u001b[0m\u001b[1;33m:\u001b[0m\u001b[1;33m\u001b[0m\u001b[1;33m\u001b[0m\u001b[0m\n",
      "\u001b[1;31mKeyboardInterrupt\u001b[0m: "
     ]
    }
   ],
   "source": [
    "transformer.fit(train_ds, epochs=1, validation_data=val_ds)"
   ]
  },
  {
   "cell_type": "code",
   "execution_count": null,
   "metadata": {
    "colab": {
     "base_uri": "https://localhost:8080/",
     "height": 295
    },
    "id": "wIc1flCWEnDW",
    "outputId": "afed9595-3951-4ad2-d8f2-c93284003273"
   },
   "outputs": [
    {
     "data": {
      "image/png": "[encoded data removed]",
      "text/plain": [
       "<Figure size 432x288 with 1 Axes>"
      ]
     },
     "metadata": {},
     "output_type": "display_data"
    }
   ],
   "source": [
    "import matplotlib\n",
    "import matplotlib.pyplot as plt\n",
    "import numpy as np\n",
    "\n",
    "x = range(0,30)\n",
    "x1 = [0.1960, 0.2768, 0.3209 , 0.3526, 0.3766, 0.3970, 0.4169, 0.4344, 0.4524, 0.4703 , 0.4874, 0.5064, 0.5220, 0.5384, 0.5554, 0.5719, 0.5875, 0.6020, 0.6180, 0.6312, 0.6451, 0.6582, 0.6695, 0.6798, 0.6885, 0.6981, 0.7049, 0.7129, 0.7191, 0.7247] \n",
    "x2 = [0.2965, 0.3120, 0.3697, 0.3499, 0.3935, 0.3906, 0.3741, 0.3908, 0.4092, 0.4083, 0.4037, 0.3983, 0.3723, 0.3861, 0.3707, 0.3928, 0.3810, 0.3903, 0.3686, 0.3828, 0.3737, 0.3959, 0.3900, 0.3755, 0.3715, 0.3790, 0.3873, 0.3934, 0.3775, 0.3813]\n",
    "#Generamos una grafica lineal para una recta en X\n",
    "plt.plot(x, x1, label='accuracy train')\n",
    "#Generamos otra grafica lineal para una X cuadratica\n",
    "plt.plot(x, x2, label='accuracy val')\n",
    "#Agregamos las etiquetas y añadimos una leyenda.\n",
    "plt.xlabel('Epocas')\n",
    "plt.ylabel('Precision')\n",
    "plt.title(\"Precision de nuestro modelo\")\n",
    "plt.legend()\n",
    "plt.savefig('grafica_lineal.png')\n",
    "plt.show()"
   ]
  }
 ],
 "metadata": {
  "colab": {
   "provenance": []
  },
  "kernelspec": {
   "display_name": "Python 3 (ipykernel)",
   "language": "python",
   "name": "python3"
  },
  "language_info": {
   "codemirror_mode": {
    "name": "ipython",
    "version": 3
   },
   "file_extension": ".py",
   "mimetype": "text/x-python",
   "name": "python",
   "nbconvert_exporter": "python",
   "pygments_lexer": "ipython3",
   "version": "3.9.13"
  }
 },
 "nbformat": 4,
 "nbformat_minor": 1
}
